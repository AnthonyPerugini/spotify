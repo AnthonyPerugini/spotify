{
 "cells": [
  {
   "cell_type": "code",
   "execution_count": 1,
   "id": "667f06f1",
   "metadata": {},
   "outputs": [],
   "source": [
    "import os\n",
    "\n",
    "os.environ[\"SPOTIPY_CLIENT_ID\"] = '40c3f0b28da64baeb148fce63495574e'\n",
    "os.environ[\"SPOTIPY_CLIENT_SECRET\"] = '9dce7b5efa554bbba7e9694352e8933e'\n",
    "os.environ[\"SPOTIPY_REDIRECT_URI\"] = 'http://localhost:8080/callback'"
   ]
  },
  {
   "cell_type": "code",
   "execution_count": 2,
   "id": "7c4c096f",
   "metadata": {},
   "outputs": [],
   "source": [
    "import spotipy\n",
    "from spotipy.oauth2 import SpotifyOAuth\n",
    "\n",
    "scope = \"user-library-read, playlist-modify-public\"\n",
    "\n",
    "sp = spotipy.Spotify(auth_manager=SpotifyOAuth(scope=scope))"
   ]
  },
  {
   "cell_type": "code",
   "execution_count": 3,
   "id": "929a086e",
   "metadata": {},
   "outputs": [
    {
     "name": "stdout",
     "output_type": "stream",
     "text": [
      "13\n"
     ]
    }
   ],
   "source": [
    "playlists_to_pull = ['two perceptrons', 'especially you', 'pineapple pizzas', 'some pandora you are', 'koala tea', 'lookin sharp // feelin flat', 'kisses', 'run A way', 'tension', 'dreads', 'berries', 'filth', 'climb_rap']\n",
    "print(len(ids))"
   ]
  },
  {
   "cell_type": "code",
   "execution_count": 4,
   "id": "56cf71ac",
   "metadata": {},
   "outputs": [
    {
     "name": "stdout",
     "output_type": "stream",
     "text": [
      "defaultdict(None, {'two perceptrons': '00CDZg07DDZcPVvmhaKujA', 'especially you': '2BXS2Zj1tig0UmvBFnCxZu', 'pineapple pizzas': '7lY7eLRQhJYXNBHo1Tatue', 'some pandora you are': '3bDx83rXLLxdcBhdQeuF4V', 'koala tea': '7aIAVaLDlSQ1rm1wth0cQm', 'lookin sharp // feelin flat': '5Z8DOeS863dPeURpoCQ8aO', 'kisses': '3IRmUH2ggCtFVbDV706rZH', 'run A way': '3kf51MGnVSmFbNsdoNmEVI', 'tension': '4DiquXsePMAc7m4GsCZrFt', 'dreads': '2kJgI31GWBxYS8Fn9DDcmn', 'berries': '6vJh6gduQ5v48hWUVtbCkB', 'filth': '2YIk8yOgIn4EzlhSVxaKic', 'climb_rap': '4kvl7o8WIn3yxFU0yqMrmW'})\n"
     ]
    }
   ],
   "source": [
    "from collections import defaultdict\n",
    "playlists = sp.current_user_playlists()\n",
    "playlist_names_and_ids = defaultdict()\n",
    "for playlist in playlists['items']:\n",
    "    if playlist['name'] in playlists_to_pull:\n",
    "        playlist_names_and_ids[playlist['name']] = playlist['id']\n",
    "print(playlist_names_and_ids)"
   ]
  },
  {
   "cell_type": "code",
   "execution_count": 28,
   "id": "b738de3d",
   "metadata": {
    "scrolled": true
   },
   "outputs": [
    {
     "name": "stdout",
     "output_type": "stream",
     "text": [
      "Story :: DUPLICATE two perceptrons -> some pandora you are\n",
      "Stare & Smile :: DUPLICATE two perceptrons -> koala tea\n",
      "Best Friend :: DUPLICATE pineapple pizzas -> koala tea\n",
      "Mo Money Mo Problems (feat. Puff Daddy & Mase) - 2014 Remaster :: DUPLICATE some pandora you are -> koala tea\n",
      "Love Lies (with Normani) :: DUPLICATE some pandora you are -> koala tea\n",
      "Alkaline :: DUPLICATE some pandora you are -> koala tea\n",
      "Church (feat. EARTHGANG) :: DUPLICATE some pandora you are -> koala tea\n",
      "Phone Numbers :: DUPLICATE two perceptrons -> koala tea\n",
      "Trust (feat. Abhi The Nomad) :: DUPLICATE two perceptrons -> koala tea\n",
      "I Know Didn't I (feat. Darondo) :: DUPLICATE two perceptrons -> koala tea\n",
      "Only Child :: DUPLICATE two perceptrons -> koala tea\n",
      "It Runs Through Me :: DUPLICATE some pandora you are -> koala tea\n",
      "Beautiful Death :: DUPLICATE koala tea -> koala tea\n",
      "Window :: DUPLICATE pineapple pizzas -> lookin sharp // feelin flat\n",
      "Shawty :: DUPLICATE koala tea -> run A way\n",
      "Turnin' Me Up :: DUPLICATE koala tea -> tension\n",
      "Glamorama :: DUPLICATE koala tea -> tension\n",
      "Runnin' :: DUPLICATE lookin sharp // feelin flat -> tension\n",
      "Sober :: DUPLICATE lookin sharp // feelin flat -> tension\n",
      "U Say (feat. Tyler, The Creator & Jay Prince) :: DUPLICATE two perceptrons -> tension\n",
      "Nirvana (with Falcons & B. Lewis) :: DUPLICATE koala tea -> tension\n",
      "You :: DUPLICATE two perceptrons -> berries\n",
      "Floating to Nowhere :: DUPLICATE pineapple pizzas -> berries\n",
      "Herside Story :: DUPLICATE koala tea -> filth\n",
      "Drive In :: DUPLICATE two perceptrons -> filth\n",
      "Glide :: DUPLICATE koala tea -> climb_rap\n",
      "Phone Numbers :: DUPLICATE two perceptrons -> climb_rap\n",
      "100 Songs :: DUPLICATE two perceptrons -> climb_rap\n",
      "Jazz :: DUPLICATE filth -> climb_rap\n",
      "Long Beach :: DUPLICATE pineapple pizzas -> climb_rap\n",
      "Juice :: DUPLICATE pineapple pizzas -> climb_rap\n",
      "Beautiful Death :: DUPLICATE koala tea -> climb_rap\n"
     ]
    }
   ],
   "source": [
    "unique_songs = defaultdict()\n",
    "song_name_to_id = defaultdict()\n",
    "\n",
    "for playlist_name, uuid in playlist_names_and_ids.items():\n",
    "    playlist = sp.playlist_items(uuid)\n",
    "    for song in playlist['items']:\n",
    "        song_name = song['track']['name']\n",
    "        song_id = song['track']['id']\n",
    "        if not song_name in unique_songs:\n",
    "            unique_songs[song_name] = playlist_name\n",
    "        else:\n",
    "            print(f'{song_name} :: DUPLICATE {unique_songs[song_name]} -> {playlist_name}')\n",
    "            \n",
    "        if not song_name in song_name_to_id:\n",
    "            song_name_to_id[song_name] = song_id"
   ]
  },
  {
   "cell_type": "code",
   "execution_count": 29,
   "id": "3fe1e4fb",
   "metadata": {},
   "outputs": [
    {
     "name": "stdout",
     "output_type": "stream",
     "text": [
      "396\n",
      "396\n"
     ]
    }
   ],
   "source": [
    "print(len(unique_songs))\n",
    "print(len(song_name_to_id))"
   ]
  },
  {
   "cell_type": "code",
   "execution_count": null,
   "id": "6cf9a91f",
   "metadata": {},
   "outputs": [],
   "source": [
    "print(playlist['items'][0]['track']['name'])"
   ]
  },
  {
   "cell_type": "code",
   "execution_count": 12,
   "id": "6768a126",
   "metadata": {},
   "outputs": [
    {
     "name": "stdout",
     "output_type": "stream",
     "text": [
      "test 7Jf4IHb8hq5Qhvs1ZZNKrF\n",
      "All 0hX5pNTy9VgKqQk8Zyr3F2\n",
      "two perceptrons 00CDZg07DDZcPVvmhaKujA\n",
      "especially you 2BXS2Zj1tig0UmvBFnCxZu\n",
      "pineapple pizzas 7lY7eLRQhJYXNBHo1Tatue\n",
      "some pandora you are 3bDx83rXLLxdcBhdQeuF4V\n",
      "koala tea 7aIAVaLDlSQ1rm1wth0cQm\n",
      "lookin sharp // feelin flat 5Z8DOeS863dPeURpoCQ8aO\n",
      "kisses 3IRmUH2ggCtFVbDV706rZH\n",
      "run A way 3kf51MGnVSmFbNsdoNmEVI\n",
      "tension 4DiquXsePMAc7m4GsCZrFt\n",
      "dreads 2kJgI31GWBxYS8Fn9DDcmn\n",
      "berries 6vJh6gduQ5v48hWUVtbCkB\n",
      "r o c k s 1ZnYR8CqbE95d7qGnCNAhQ\n",
      "rolls 78Yfyw7Y0Yt8B8n0yCq9rh\n",
      "filth 2YIk8yOgIn4EzlhSVxaKic\n",
      "true 1kaGCbDzrykqmOTAAl7tkL\n",
      "meld 6qThaI44JqXLTeVR9nRUCA\n",
      "climb_math 3qoJ3AsRNuMsco0kYDxia8\n",
      "climb_rap 4kvl7o8WIn3yxFU0yqMrmW\n",
      "climb_groove 6CdjW9TADySItr5IB8DwRW\n"
     ]
    }
   ],
   "source": [
    "for playlist in sp.current_user_playlists()['items']:\n",
    "    print(playlist['name'], playlist['id'])"
   ]
  },
  {
   "cell_type": "code",
   "execution_count": null,
   "id": "8a9e1bcf",
   "metadata": {},
   "outputs": [],
   "source": [
    "def divide_chunks(l, n):\n",
    "      \n",
    "    # looping till length l\n",
    "    for i in range(0, len(l), n): \n",
    "        yield l[i:i + n]"
   ]
  },
  {
   "cell_type": "code",
   "execution_count": 25,
   "id": "695c72af",
   "metadata": {},
   "outputs": [],
   "source": [
    "sp.playlist_replace_items('7Jf4IHb8hq5Qhvs1ZZNKrF', [])\n",
    "\n",
    "for chunk in divide_chunks(list(song_name_to_id.values()), 100):\n",
    "    sp.playlist_add_items('7Jf4IHb8hq5Qhvs1ZZNKrF', l)"
   ]
  }
 ],
 "metadata": {
  "kernelspec": {
   "display_name": "Python 3 (ipykernel)",
   "language": "python",
   "name": "python3"
  },
  "language_info": {
   "codemirror_mode": {
    "name": "ipython",
    "version": 3
   },
   "file_extension": ".py",
   "mimetype": "text/x-python",
   "name": "python",
   "nbconvert_exporter": "python",
   "pygments_lexer": "ipython3",
   "version": "3.10.0"
  }
 },
 "nbformat": 4,
 "nbformat_minor": 5
}
