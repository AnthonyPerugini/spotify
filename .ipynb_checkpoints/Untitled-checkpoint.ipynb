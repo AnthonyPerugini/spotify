{
 "cells": [
  {
   "cell_type": "code",
   "execution_count": 43,
   "id": "667f06f1",
   "metadata": {},
   "outputs": [],
   "source": [
    "import os\n",
    "\n",
    "os.environ[\"SPOTIPY_CLIENT_ID\"] = '40c3f0b28da64baeb148fce63495574e'\n",
    "os.environ[\"SPOTIPY_CLIENT_SECRET\"] = '9dce7b5efa554bbba7e9694352e8933e'\n",
    "os.environ[\"SPOTIPY_REDIRECT_URI\"] = 'http://localhost:8080/callback'"
   ]
  },
  {
   "cell_type": "code",
   "execution_count": 44,
   "id": "7c4c096f",
   "metadata": {},
   "outputs": [],
   "source": [
    "import spotipy\n",
    "from spotipy.oauth2 import SpotifyOAuth\n",
    "\n",
    "scope = \"user-library-read\"\n",
    "\n",
    "sp = spotipy.Spotify(auth_manager=SpotifyOAuth(scope=scope))"
   ]
  },
  {
   "cell_type": "code",
   "execution_count": 45,
   "id": "3696c4aa",
   "metadata": {},
   "outputs": [
    {
     "name": "stdout",
     "output_type": "stream",
     "text": [
      "13\n"
     ]
    }
   ],
   "source": [
    "ids = ['two perceptrons', 'especially you', 'pineapple pizzas', 'some pandora you are', 'koala tea', 'lookin sharp // feelin flat', 'kisses', 'run A way', 'tension', 'dreads', 'berries', 'filth', 'climb_rap']\n",
    "print(len(ids))"
   ]
  },
  {
   "cell_type": "code",
   "execution_count": 46,
   "id": "56cf71ac",
   "metadata": {},
   "outputs": [
    {
     "name": "stdout",
     "output_type": "stream",
     "text": [
      "defaultdict(None, {'two perceptrons': '00CDZg07DDZcPVvmhaKujA', 'especially you': '2BXS2Zj1tig0UmvBFnCxZu', 'pineapple pizzas': '7lY7eLRQhJYXNBHo1Tatue', 'some pandora you are': '3bDx83rXLLxdcBhdQeuF4V', 'koala tea': '7aIAVaLDlSQ1rm1wth0cQm', 'lookin sharp // feelin flat': '5Z8DOeS863dPeURpoCQ8aO', 'kisses': '3IRmUH2ggCtFVbDV706rZH', 'run A way': '3kf51MGnVSmFbNsdoNmEVI', 'tension': '4DiquXsePMAc7m4GsCZrFt', 'dreads': '2kJgI31GWBxYS8Fn9DDcmn', 'berries': '6vJh6gduQ5v48hWUVtbCkB', 'filth': '2YIk8yOgIn4EzlhSVxaKic', 'climb_rap': '4kvl7o8WIn3yxFU0yqMrmW'})\n"
     ]
    }
   ],
   "source": [
    "from collections import defaultdict\n",
    "playlists = sp.current_user_playlists()\n",
    "playlist_names_and_ids = defaultdict()\n",
    "for playlist in playlists['items']:\n",
    "    if playlist['name'] in ids:\n",
    "        playlist_names_and_ids[playlist['name']] = playlist['id']\n",
    "print(playlist_names_and_ids)"
   ]
  },
  {
   "cell_type": "code",
   "execution_count": 47,
   "id": "b738de3d",
   "metadata": {},
   "outputs": [
    {
     "name": "stdout",
     "output_type": "stream",
     "text": [
      "Story :: DUPLICATE two perceptrons -> some pandora you are\n",
      "Stare & Smile :: DUPLICATE two perceptrons -> koala tea\n",
      "Best Friend :: DUPLICATE pineapple pizzas -> koala tea\n",
      "Mo Money Mo Problems (feat. Puff Daddy & Mase) - 2014 Remaster :: DUPLICATE some pandora you are -> koala tea\n",
      "Love Lies (with Normani) :: DUPLICATE some pandora you are -> koala tea\n",
      "Alkaline :: DUPLICATE some pandora you are -> koala tea\n",
      "Church (feat. EARTHGANG) :: DUPLICATE some pandora you are -> koala tea\n",
      "Phone Numbers :: DUPLICATE two perceptrons -> koala tea\n",
      "Trust (feat. Abhi The Nomad) :: DUPLICATE two perceptrons -> koala tea\n",
      "I Know Didn't I (feat. Darondo) :: DUPLICATE two perceptrons -> koala tea\n",
      "Only Child :: DUPLICATE two perceptrons -> koala tea\n",
      "It Runs Through Me :: DUPLICATE some pandora you are -> koala tea\n",
      "Beautiful Death :: DUPLICATE koala tea -> koala tea\n",
      "Window :: DUPLICATE pineapple pizzas -> lookin sharp // feelin flat\n",
      "Shawty :: DUPLICATE koala tea -> run A way\n",
      "Turnin' Me Up :: DUPLICATE koala tea -> tension\n",
      "Glamorama :: DUPLICATE koala tea -> tension\n",
      "Runnin' :: DUPLICATE lookin sharp // feelin flat -> tension\n",
      "Sober :: DUPLICATE lookin sharp // feelin flat -> tension\n",
      "U Say (feat. Tyler, The Creator & Jay Prince) :: DUPLICATE two perceptrons -> tension\n",
      "Nirvana (with Falcons & B. Lewis) :: DUPLICATE koala tea -> tension\n",
      "You :: DUPLICATE two perceptrons -> berries\n",
      "Floating to Nowhere :: DUPLICATE pineapple pizzas -> berries\n",
      "Herside Story :: DUPLICATE koala tea -> filth\n",
      "Drive In :: DUPLICATE two perceptrons -> filth\n",
      "Glide :: DUPLICATE koala tea -> climb_rap\n",
      "Phone Numbers :: DUPLICATE two perceptrons -> climb_rap\n",
      "100 Songs :: DUPLICATE two perceptrons -> climb_rap\n",
      "Jazz :: DUPLICATE filth -> climb_rap\n",
      "Long Beach :: DUPLICATE pineapple pizzas -> climb_rap\n",
      "Juice :: DUPLICATE pineapple pizzas -> climb_rap\n",
      "Beautiful Death :: DUPLICATE koala tea -> climb_rap\n",
      "396\n"
     ]
    }
   ],
   "source": [
    "unique_songs = defaultdict()\n",
    "\n",
    "for playlist_name, uuid in playlist_names_and_ids.items():\n",
    "    playlist = sp.playlist_items(uuid)\n",
    "    for song in playlist['items']:\n",
    "        song_name = song['track']['name']\n",
    "        if not song_name in unique_songs:\n",
    "            unique_songs[song_name] = playlist_name\n",
    "        else:\n",
    "            print(f'{song_name} :: DUPLICATE {unique_songs[song_name]} -> {playlist_name}')\n",
    "\n",
    "print(len(unique_songs))"
   ]
  },
  {
   "cell_type": "code",
   "execution_count": 48,
   "id": "6cf9a91f",
   "metadata": {},
   "outputs": [
    {
     "name": "stdout",
     "output_type": "stream",
     "text": [
      "The Gunshot\n"
     ]
    }
   ],
   "source": [
    "print(playlist['items'][0]['track']['name'])"
   ]
  },
  {
   "cell_type": "code",
   "execution_count": 50,
   "id": "b32d8673",
   "metadata": {},
   "outputs": [
    {
     "name": "stderr",
     "output_type": "stream",
     "text": [
      "HTTP Error for GET to https://api.spotify.com/v1/playlists/test/tracks with Params: {'limit': 100, 'offset': 0, 'fields': None, 'market': None, 'additional_types': 'track,episode'} returned 404 due to Invalid playlist Id\n"
     ]
    },
    {
     "ename": "SpotifyException",
     "evalue": "http status: 404, code:-1 - https://api.spotify.com/v1/playlists/test/tracks?limit=100&offset=0&additional_types=track%2Cepisode:\n Invalid playlist Id, reason: None",
     "output_type": "error",
     "traceback": [
      "\u001b[0;31m---------------------------------------------------------------------------\u001b[0m",
      "\u001b[0;31mHTTPError\u001b[0m                                 Traceback (most recent call last)",
      "File \u001b[0;32m~/miniconda3/envs/spotify/lib/python3.10/site-packages/spotipy/client.py:245\u001b[0m, in \u001b[0;36mSpotify._internal_call\u001b[0;34m(self, method, url, payload, params)\u001b[0m\n\u001b[1;32m    240\u001b[0m response \u001b[38;5;241m=\u001b[39m \u001b[38;5;28mself\u001b[39m\u001b[38;5;241m.\u001b[39m_session\u001b[38;5;241m.\u001b[39mrequest(\n\u001b[1;32m    241\u001b[0m     method, url, headers\u001b[38;5;241m=\u001b[39mheaders, proxies\u001b[38;5;241m=\u001b[39m\u001b[38;5;28mself\u001b[39m\u001b[38;5;241m.\u001b[39mproxies,\n\u001b[1;32m    242\u001b[0m     timeout\u001b[38;5;241m=\u001b[39m\u001b[38;5;28mself\u001b[39m\u001b[38;5;241m.\u001b[39mrequests_timeout, \u001b[38;5;241m*\u001b[39m\u001b[38;5;241m*\u001b[39margs\n\u001b[1;32m    243\u001b[0m )\n\u001b[0;32m--> 245\u001b[0m \u001b[43mresponse\u001b[49m\u001b[38;5;241;43m.\u001b[39;49m\u001b[43mraise_for_status\u001b[49m\u001b[43m(\u001b[49m\u001b[43m)\u001b[49m\n\u001b[1;32m    246\u001b[0m results \u001b[38;5;241m=\u001b[39m response\u001b[38;5;241m.\u001b[39mjson()\n",
      "File \u001b[0;32m~/miniconda3/envs/spotify/lib/python3.10/site-packages/requests/models.py:960\u001b[0m, in \u001b[0;36mResponse.raise_for_status\u001b[0;34m(self)\u001b[0m\n\u001b[1;32m    959\u001b[0m \u001b[38;5;28;01mif\u001b[39;00m http_error_msg:\n\u001b[0;32m--> 960\u001b[0m     \u001b[38;5;28;01mraise\u001b[39;00m HTTPError(http_error_msg, response\u001b[38;5;241m=\u001b[39m\u001b[38;5;28mself\u001b[39m)\n",
      "\u001b[0;31mHTTPError\u001b[0m: 404 Client Error: Not Found for url: https://api.spotify.com/v1/playlists/test/tracks?limit=100&offset=0&additional_types=track%2Cepisode",
      "\nDuring handling of the above exception, another exception occurred:\n",
      "\u001b[0;31mSpotifyException\u001b[0m                          Traceback (most recent call last)",
      "Input \u001b[0;32mIn [50]\u001b[0m, in \u001b[0;36m<module>\u001b[0;34m\u001b[0m\n\u001b[0;32m----> 1\u001b[0m \u001b[43msp\u001b[49m\u001b[38;5;241;43m.\u001b[39;49m\u001b[43mplaylist_items\u001b[49m\u001b[43m(\u001b[49m\u001b[38;5;124;43m'\u001b[39;49m\u001b[38;5;124;43mtest\u001b[39;49m\u001b[38;5;124;43m'\u001b[39;49m\u001b[43m)\u001b[49m\n",
      "File \u001b[0;32m~/miniconda3/envs/spotify/lib/python3.10/site-packages/spotipy/client.py:673\u001b[0m, in \u001b[0;36mSpotify.playlist_items\u001b[0;34m(self, playlist_id, fields, limit, offset, market, additional_types)\u001b[0m\n\u001b[1;32m    661\u001b[0m \u001b[38;5;124;03m\"\"\" Get full details of the tracks and episodes of a playlist.\u001b[39;00m\n\u001b[1;32m    662\u001b[0m \n\u001b[1;32m    663\u001b[0m \u001b[38;5;124;03m    Parameters:\u001b[39;00m\n\u001b[0;32m   (...)\u001b[0m\n\u001b[1;32m    670\u001b[0m \u001b[38;5;124;03m                             valid types are: track and episode\u001b[39;00m\n\u001b[1;32m    671\u001b[0m \u001b[38;5;124;03m\"\"\"\u001b[39;00m\n\u001b[1;32m    672\u001b[0m plid \u001b[38;5;241m=\u001b[39m \u001b[38;5;28mself\u001b[39m\u001b[38;5;241m.\u001b[39m_get_id(\u001b[38;5;124m\"\u001b[39m\u001b[38;5;124mplaylist\u001b[39m\u001b[38;5;124m\"\u001b[39m, playlist_id)\n\u001b[0;32m--> 673\u001b[0m \u001b[38;5;28;01mreturn\u001b[39;00m \u001b[38;5;28;43mself\u001b[39;49m\u001b[38;5;241;43m.\u001b[39;49m\u001b[43m_get\u001b[49m\u001b[43m(\u001b[49m\n\u001b[1;32m    674\u001b[0m \u001b[43m    \u001b[49m\u001b[38;5;124;43m\"\u001b[39;49m\u001b[38;5;124;43mplaylists/\u001b[39;49m\u001b[38;5;132;43;01m%s\u001b[39;49;00m\u001b[38;5;124;43m/tracks\u001b[39;49m\u001b[38;5;124;43m\"\u001b[39;49m\u001b[43m \u001b[49m\u001b[38;5;241;43m%\u001b[39;49m\u001b[43m \u001b[49m\u001b[43m(\u001b[49m\u001b[43mplid\u001b[49m\u001b[43m)\u001b[49m\u001b[43m,\u001b[49m\n\u001b[1;32m    675\u001b[0m \u001b[43m    \u001b[49m\u001b[43mlimit\u001b[49m\u001b[38;5;241;43m=\u001b[39;49m\u001b[43mlimit\u001b[49m\u001b[43m,\u001b[49m\n\u001b[1;32m    676\u001b[0m \u001b[43m    \u001b[49m\u001b[43moffset\u001b[49m\u001b[38;5;241;43m=\u001b[39;49m\u001b[43moffset\u001b[49m\u001b[43m,\u001b[49m\n\u001b[1;32m    677\u001b[0m \u001b[43m    \u001b[49m\u001b[43mfields\u001b[49m\u001b[38;5;241;43m=\u001b[39;49m\u001b[43mfields\u001b[49m\u001b[43m,\u001b[49m\n\u001b[1;32m    678\u001b[0m \u001b[43m    \u001b[49m\u001b[43mmarket\u001b[49m\u001b[38;5;241;43m=\u001b[39;49m\u001b[43mmarket\u001b[49m\u001b[43m,\u001b[49m\n\u001b[1;32m    679\u001b[0m \u001b[43m    \u001b[49m\u001b[43madditional_types\u001b[49m\u001b[38;5;241;43m=\u001b[39;49m\u001b[38;5;124;43m\"\u001b[39;49m\u001b[38;5;124;43m,\u001b[39;49m\u001b[38;5;124;43m\"\u001b[39;49m\u001b[38;5;241;43m.\u001b[39;49m\u001b[43mjoin\u001b[49m\u001b[43m(\u001b[49m\u001b[43madditional_types\u001b[49m\u001b[43m)\u001b[49m\n\u001b[1;32m    680\u001b[0m \u001b[43m\u001b[49m\u001b[43m)\u001b[49m\n",
      "File \u001b[0;32m~/miniconda3/envs/spotify/lib/python3.10/site-packages/spotipy/client.py:297\u001b[0m, in \u001b[0;36mSpotify._get\u001b[0;34m(self, url, args, payload, **kwargs)\u001b[0m\n\u001b[1;32m    294\u001b[0m \u001b[38;5;28;01mif\u001b[39;00m args:\n\u001b[1;32m    295\u001b[0m     kwargs\u001b[38;5;241m.\u001b[39mupdate(args)\n\u001b[0;32m--> 297\u001b[0m \u001b[38;5;28;01mreturn\u001b[39;00m \u001b[38;5;28;43mself\u001b[39;49m\u001b[38;5;241;43m.\u001b[39;49m\u001b[43m_internal_call\u001b[49m\u001b[43m(\u001b[49m\u001b[38;5;124;43m\"\u001b[39;49m\u001b[38;5;124;43mGET\u001b[39;49m\u001b[38;5;124;43m\"\u001b[39;49m\u001b[43m,\u001b[49m\u001b[43m \u001b[49m\u001b[43murl\u001b[49m\u001b[43m,\u001b[49m\u001b[43m \u001b[49m\u001b[43mpayload\u001b[49m\u001b[43m,\u001b[49m\u001b[43m \u001b[49m\u001b[43mkwargs\u001b[49m\u001b[43m)\u001b[49m\n",
      "File \u001b[0;32m~/miniconda3/envs/spotify/lib/python3.10/site-packages/spotipy/client.py:267\u001b[0m, in \u001b[0;36mSpotify._internal_call\u001b[0;34m(self, method, url, payload, params)\u001b[0m\n\u001b[1;32m    260\u001b[0m         reason \u001b[38;5;241m=\u001b[39m \u001b[38;5;28;01mNone\u001b[39;00m\n\u001b[1;32m    262\u001b[0m     logger\u001b[38;5;241m.\u001b[39merror(\n\u001b[1;32m    263\u001b[0m         \u001b[38;5;124m'\u001b[39m\u001b[38;5;124mHTTP Error for \u001b[39m\u001b[38;5;132;01m%s\u001b[39;00m\u001b[38;5;124m to \u001b[39m\u001b[38;5;132;01m%s\u001b[39;00m\u001b[38;5;124m with Params: \u001b[39m\u001b[38;5;132;01m%s\u001b[39;00m\u001b[38;5;124m returned \u001b[39m\u001b[38;5;132;01m%s\u001b[39;00m\u001b[38;5;124m due to \u001b[39m\u001b[38;5;132;01m%s\u001b[39;00m\u001b[38;5;124m'\u001b[39m,\n\u001b[1;32m    264\u001b[0m         method, url, args\u001b[38;5;241m.\u001b[39mget(\u001b[38;5;124m\"\u001b[39m\u001b[38;5;124mparams\u001b[39m\u001b[38;5;124m\"\u001b[39m), response\u001b[38;5;241m.\u001b[39mstatus_code, msg\n\u001b[1;32m    265\u001b[0m     )\n\u001b[0;32m--> 267\u001b[0m     \u001b[38;5;28;01mraise\u001b[39;00m SpotifyException(\n\u001b[1;32m    268\u001b[0m         response\u001b[38;5;241m.\u001b[39mstatus_code,\n\u001b[1;32m    269\u001b[0m         \u001b[38;5;241m-\u001b[39m\u001b[38;5;241m1\u001b[39m,\n\u001b[1;32m    270\u001b[0m         \u001b[38;5;124m\"\u001b[39m\u001b[38;5;132;01m%s\u001b[39;00m\u001b[38;5;124m:\u001b[39m\u001b[38;5;130;01m\\n\u001b[39;00m\u001b[38;5;124m \u001b[39m\u001b[38;5;132;01m%s\u001b[39;00m\u001b[38;5;124m\"\u001b[39m \u001b[38;5;241m%\u001b[39m (response\u001b[38;5;241m.\u001b[39murl, msg),\n\u001b[1;32m    271\u001b[0m         reason\u001b[38;5;241m=\u001b[39mreason,\n\u001b[1;32m    272\u001b[0m         headers\u001b[38;5;241m=\u001b[39mresponse\u001b[38;5;241m.\u001b[39mheaders,\n\u001b[1;32m    273\u001b[0m     )\n\u001b[1;32m    274\u001b[0m \u001b[38;5;28;01mexcept\u001b[39;00m requests\u001b[38;5;241m.\u001b[39mexceptions\u001b[38;5;241m.\u001b[39mRetryError \u001b[38;5;28;01mas\u001b[39;00m retry_error:\n\u001b[1;32m    275\u001b[0m     request \u001b[38;5;241m=\u001b[39m retry_error\u001b[38;5;241m.\u001b[39mrequest\n",
      "\u001b[0;31mSpotifyException\u001b[0m: http status: 404, code:-1 - https://api.spotify.com/v1/playlists/test/tracks?limit=100&offset=0&additional_types=track%2Cepisode:\n Invalid playlist Id, reason: None"
     ]
    }
   ],
   "source": [
    "sp.playlist_items('test')"
   ]
  },
  {
   "cell_type": "code",
   "execution_count": 58,
   "id": "115b6fe8",
   "metadata": {},
   "outputs": [
    {
     "name": "stdout",
     "output_type": "stream",
     "text": [
      "two perceptrons 00CDZg07DDZcPVvmhaKujA\n",
      "especially you 2BXS2Zj1tig0UmvBFnCxZu\n",
      "pineapple pizzas 7lY7eLRQhJYXNBHo1Tatue\n",
      "some pandora you are 3bDx83rXLLxdcBhdQeuF4V\n",
      "koala tea 7aIAVaLDlSQ1rm1wth0cQm\n",
      "lookin sharp // feelin flat 5Z8DOeS863dPeURpoCQ8aO\n",
      "kisses 3IRmUH2ggCtFVbDV706rZH\n",
      "run A way 3kf51MGnVSmFbNsdoNmEVI\n",
      "tension 4DiquXsePMAc7m4GsCZrFt\n",
      "dreads 2kJgI31GWBxYS8Fn9DDcmn\n",
      "berries 6vJh6gduQ5v48hWUVtbCkB\n",
      "r o c k s 1ZnYR8CqbE95d7qGnCNAhQ\n",
      "rolls 78Yfyw7Y0Yt8B8n0yCq9rh\n",
      "filth 2YIk8yOgIn4EzlhSVxaKic\n",
      "true 1kaGCbDzrykqmOTAAl7tkL\n",
      "meld 6qThaI44JqXLTeVR9nRUCA\n",
      "climb_math 3qoJ3AsRNuMsco0kYDxia8\n",
      "climb_rap 4kvl7o8WIn3yxFU0yqMrmW\n",
      "climb_groove 6CdjW9TADySItr5IB8DwRW\n"
     ]
    }
   ],
   "source": [
    "for playlist in sp.current_user_playlists()['items']:\n",
    "    print(playlist['name'], playlist['id'])"
   ]
  },
  {
   "cell_type": "code",
   "execution_count": null,
   "id": "a7656863",
   "metadata": {},
   "outputs": [],
   "source": []
  }
 ],
 "metadata": {
  "kernelspec": {
   "display_name": "Python 3 (ipykernel)",
   "language": "python",
   "name": "python3"
  },
  "language_info": {
   "codemirror_mode": {
    "name": "ipython",
    "version": 3
   },
   "file_extension": ".py",
   "mimetype": "text/x-python",
   "name": "python",
   "nbconvert_exporter": "python",
   "pygments_lexer": "ipython3",
   "version": "3.10.0"
  }
 },
 "nbformat": 4,
 "nbformat_minor": 5
}
